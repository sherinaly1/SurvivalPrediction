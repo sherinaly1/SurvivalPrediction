{
 "cells": [
  {
   "cell_type": "code",
   "execution_count": 1,
   "id": "6d02c45e",
   "metadata": {},
   "outputs": [],
   "source": [
    "import joblib\n",
    "import pandas as pd\n",
    "from sklearn.model_selection import GridSearchCV\n",
    "from sklearn.ensemble import RandomForestClassifier\n",
    "import warnings\n",
    "warnings.filterwarnings('ignore', category=FutureWarning)\n",
    "warnings.filterwarnings('ignore', category=DeprecationWarning)\n",
    "\n",
    "tr_features = pd.read_csv('train_features.csv')\n",
    "tr_labels = pd.read_csv('train_labels.csv')"
   ]
  },
  {
   "cell_type": "code",
   "execution_count": 2,
   "id": "11842cfe",
   "metadata": {},
   "outputs": [],
   "source": [
    "def print_results(results):\n",
    "    print('BEST PARAMS: {}\\n'.format(results.best_params_))\n",
    "\n",
    "    means = results.cv_results_['mean_test_score']\n",
    "    stds = results.cv_results_['std_test_score']\n",
    "    for mean, std, params in zip(means, stds, results.cv_results_['params']):\n",
    "        print('{} (+/-{}) for {}'.format(round(mean, 3), round(std * 2, 3), params))"
   ]
  },
  {
   "cell_type": "code",
   "execution_count": 6,
   "id": "2a9332fd",
   "metadata": {},
   "outputs": [
    {
     "name": "stdout",
     "output_type": "stream",
     "text": [
      "BEST PARAMS: {'max_depth': 4, 'n_estimators': 25}\n",
      "\n",
      "0.785 (+/-0.105) for {'max_depth': 2, 'n_estimators': 5}\n",
      "0.796 (+/-0.104) for {'max_depth': 2, 'n_estimators': 25}\n",
      "0.802 (+/-0.106) for {'max_depth': 2, 'n_estimators': 50}\n",
      "0.813 (+/-0.131) for {'max_depth': 4, 'n_estimators': 5}\n",
      "0.83 (+/-0.092) for {'max_depth': 4, 'n_estimators': 25}\n",
      "0.82 (+/-0.118) for {'max_depth': 4, 'n_estimators': 50}\n",
      "0.818 (+/-0.048) for {'max_depth': 16, 'n_estimators': 5}\n",
      "0.8 (+/-0.032) for {'max_depth': 16, 'n_estimators': 25}\n",
      "0.811 (+/-0.036) for {'max_depth': 16, 'n_estimators': 50}\n",
      "0.794 (+/-0.067) for {'max_depth': 32, 'n_estimators': 5}\n",
      "0.813 (+/-0.023) for {'max_depth': 32, 'n_estimators': 25}\n",
      "0.813 (+/-0.029) for {'max_depth': 32, 'n_estimators': 50}\n",
      "0.801 (+/-0.058) for {'max_depth': None, 'n_estimators': 5}\n",
      "0.811 (+/-0.018) for {'max_depth': None, 'n_estimators': 25}\n",
      "0.822 (+/-0.033) for {'max_depth': None, 'n_estimators': 50}\n"
     ]
    }
   ],
   "source": [
    "rf = RandomForestClassifier()\n",
    "param = {\n",
    "    'n_estimators':[5,25,50],\n",
    "    'max_depth':[2,4,16,32,None]\n",
    "}\n",
    "cv=GridSearchCV(rf,param,cv=5)\n",
    "cv.fit(tr_features, tr_labels.values.ravel())\n",
    "print_results(cv)"
   ]
  },
  {
   "cell_type": "code",
   "execution_count": 7,
   "id": "af883ac2",
   "metadata": {},
   "outputs": [
    {
     "data": {
      "text/plain": [
       "RandomForestClassifier(max_depth=4, n_estimators=25)"
      ]
     },
     "execution_count": 7,
     "metadata": {},
     "output_type": "execute_result"
    }
   ],
   "source": [
    "cv.best_estimator_"
   ]
  },
  {
   "cell_type": "code",
   "execution_count": 9,
   "id": "8e59eaa3",
   "metadata": {},
   "outputs": [
    {
     "data": {
      "text/plain": [
       "['RFModel.pkl']"
      ]
     },
     "execution_count": 9,
     "metadata": {},
     "output_type": "execute_result"
    }
   ],
   "source": [
    "joblib.dump(cv.best_estimator_,'RFModel.pkl')"
   ]
  },
  {
   "cell_type": "code",
   "execution_count": null,
   "id": "a24ae548",
   "metadata": {},
   "outputs": [],
   "source": []
  }
 ],
 "metadata": {
  "kernelspec": {
   "display_name": "Python 3",
   "language": "python",
   "name": "python3"
  },
  "language_info": {
   "codemirror_mode": {
    "name": "ipython",
    "version": 3
   },
   "file_extension": ".py",
   "mimetype": "text/x-python",
   "name": "python",
   "nbconvert_exporter": "python",
   "pygments_lexer": "ipython3",
   "version": "3.8.8"
  }
 },
 "nbformat": 4,
 "nbformat_minor": 5
}
