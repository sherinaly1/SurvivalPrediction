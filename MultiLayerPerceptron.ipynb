{
 "cells": [
  {
   "cell_type": "markdown",
   "id": "8f605f49",
   "metadata": {},
   "source": [
    "# Multi Layer Perceptron"
   ]
  },
  {
   "cell_type": "code",
   "execution_count": 11,
   "id": "1126c193",
   "metadata": {},
   "outputs": [],
   "source": [
    "import pandas as pd\n",
    "import joblib\n",
    "from sklearn.neural_network import MLPClassifier\n",
    "from sklearn.model_selection import GridSearchCV\n",
    "import warnings\n",
    "warnings.filterwarnings('ignore', category=FutureWarning)\n",
    "warnings.filterwarnings('ignore', category=DeprecationWarning)\n",
    "\n",
    "tr_features = pd.read_csv('train_features.csv')\n",
    "tr_labels = pd.read_csv('train_labels.csv')\n"
   ]
  },
  {
   "cell_type": "code",
   "execution_count": 21,
   "id": "54c15dfd",
   "metadata": {},
   "outputs": [],
   "source": [
    "def print_results(model):\n",
    "    print('Best parameter {}\\n'.format(model.best_params_))\n",
    "    means = model.cv_results_['mean_test_score']\n",
    "    stds = model.cv_results_['std_test_score']\n",
    "    for mean,std,par in zip(means,stds,model.cv_results_['params']):\n",
    "        print('{} (+/- {}) {}'.format(round(mean,3),round(std,3),par))"
   ]
  },
  {
   "cell_type": "code",
   "execution_count": 13,
   "id": "07b5ab67",
   "metadata": {},
   "outputs": [
    {
     "data": {
      "text/plain": [
       "<Signature (hidden_layer_sizes=(100,), activation='relu', *, solver='adam', alpha=0.0001, batch_size='auto', learning_rate='constant', learning_rate_init=0.001, power_t=0.5, max_iter=200, shuffle=True, random_state=None, tol=0.0001, verbose=False, warm_start=False, momentum=0.9, nesterovs_momentum=True, early_stopping=False, validation_fraction=0.1, beta_1=0.9, beta_2=0.999, epsilon=1e-08, n_iter_no_change=10, max_fun=15000)>"
      ]
     },
     "execution_count": 13,
     "metadata": {},
     "output_type": "execute_result"
    }
   ],
   "source": [
    "import inspect \n",
    "inspect.signature(MLPClassifier)"
   ]
  },
  {
   "cell_type": "code",
   "execution_count": 23,
   "id": "987c4b79",
   "metadata": {},
   "outputs": [
    {
     "data": {
      "text/plain": [
       "GridSearchCV(cv=5, estimator=MLPClassifier(max_iter=1000),\n",
       "             param_grid={'activation': ['relu', 'tanh', 'logistic'],\n",
       "                         'hidden_layer_sizes': [(10,), (50,), (100,)],\n",
       "                         'learning_rate': ['constant', 'invscaling',\n",
       "                                           'adaptive']})"
      ]
     },
     "execution_count": 23,
     "metadata": {},
     "output_type": "execute_result"
    }
   ],
   "source": [
    "MLP=MLPClassifier(max_iter=1000)\n",
    "param = {'hidden_layer_sizes':[(10,),(50,),(100,)],\n",
    "         'learning_rate':['constant', 'invscaling', 'adaptive'],\n",
    "         'activation':['relu','tanh', 'logistic']    \n",
    "}\n",
    "cv=GridSearchCV(MLP,param,cv=5)\n",
    "cv.fit(tr_features,tr_labels.values.ravel())"
   ]
  },
  {
   "cell_type": "code",
   "execution_count": 24,
   "id": "4b827551",
   "metadata": {},
   "outputs": [
    {
     "name": "stdout",
     "output_type": "stream",
     "text": [
      "Best parameter {'activation': 'tanh', 'hidden_layer_sizes': (50,), 'learning_rate': 'constant'}\n",
      "\n",
      "0.802 (+/- 0.038) {'activation': 'relu', 'hidden_layer_sizes': (10,), 'learning_rate': 'constant'}\n",
      "0.777 (+/- 0.058) {'activation': 'relu', 'hidden_layer_sizes': (10,), 'learning_rate': 'invscaling'}\n",
      "0.794 (+/- 0.061) {'activation': 'relu', 'hidden_layer_sizes': (10,), 'learning_rate': 'adaptive'}\n",
      "0.781 (+/- 0.072) {'activation': 'relu', 'hidden_layer_sizes': (50,), 'learning_rate': 'constant'}\n",
      "0.803 (+/- 0.059) {'activation': 'relu', 'hidden_layer_sizes': (50,), 'learning_rate': 'invscaling'}\n",
      "0.796 (+/- 0.056) {'activation': 'relu', 'hidden_layer_sizes': (50,), 'learning_rate': 'adaptive'}\n",
      "0.788 (+/- 0.052) {'activation': 'relu', 'hidden_layer_sizes': (100,), 'learning_rate': 'constant'}\n",
      "0.779 (+/- 0.071) {'activation': 'relu', 'hidden_layer_sizes': (100,), 'learning_rate': 'invscaling'}\n",
      "0.805 (+/- 0.056) {'activation': 'relu', 'hidden_layer_sizes': (100,), 'learning_rate': 'adaptive'}\n",
      "0.804 (+/- 0.067) {'activation': 'tanh', 'hidden_layer_sizes': (10,), 'learning_rate': 'constant'}\n",
      "0.779 (+/- 0.083) {'activation': 'tanh', 'hidden_layer_sizes': (10,), 'learning_rate': 'invscaling'}\n",
      "0.787 (+/- 0.069) {'activation': 'tanh', 'hidden_layer_sizes': (10,), 'learning_rate': 'adaptive'}\n",
      "0.809 (+/- 0.052) {'activation': 'tanh', 'hidden_layer_sizes': (50,), 'learning_rate': 'constant'}\n",
      "0.794 (+/- 0.043) {'activation': 'tanh', 'hidden_layer_sizes': (50,), 'learning_rate': 'invscaling'}\n",
      "0.8 (+/- 0.04) {'activation': 'tanh', 'hidden_layer_sizes': (50,), 'learning_rate': 'adaptive'}\n",
      "0.792 (+/- 0.05) {'activation': 'tanh', 'hidden_layer_sizes': (100,), 'learning_rate': 'constant'}\n",
      "0.802 (+/- 0.05) {'activation': 'tanh', 'hidden_layer_sizes': (100,), 'learning_rate': 'invscaling'}\n",
      "0.787 (+/- 0.049) {'activation': 'tanh', 'hidden_layer_sizes': (100,), 'learning_rate': 'adaptive'}\n",
      "0.802 (+/- 0.06) {'activation': 'logistic', 'hidden_layer_sizes': (10,), 'learning_rate': 'constant'}\n",
      "0.8 (+/- 0.055) {'activation': 'logistic', 'hidden_layer_sizes': (10,), 'learning_rate': 'invscaling'}\n",
      "0.805 (+/- 0.049) {'activation': 'logistic', 'hidden_layer_sizes': (10,), 'learning_rate': 'adaptive'}\n",
      "0.794 (+/- 0.058) {'activation': 'logistic', 'hidden_layer_sizes': (50,), 'learning_rate': 'constant'}\n",
      "0.8 (+/- 0.059) {'activation': 'logistic', 'hidden_layer_sizes': (50,), 'learning_rate': 'invscaling'}\n",
      "0.802 (+/- 0.06) {'activation': 'logistic', 'hidden_layer_sizes': (50,), 'learning_rate': 'adaptive'}\n",
      "0.8 (+/- 0.047) {'activation': 'logistic', 'hidden_layer_sizes': (100,), 'learning_rate': 'constant'}\n",
      "0.8 (+/- 0.059) {'activation': 'logistic', 'hidden_layer_sizes': (100,), 'learning_rate': 'invscaling'}\n",
      "0.8 (+/- 0.055) {'activation': 'logistic', 'hidden_layer_sizes': (100,), 'learning_rate': 'adaptive'}\n"
     ]
    }
   ],
   "source": [
    "print_results(cv)"
   ]
  },
  {
   "cell_type": "code",
   "execution_count": 25,
   "id": "d9dee69e",
   "metadata": {},
   "outputs": [
    {
     "data": {
      "text/plain": [
       "MLPClassifier(activation='tanh', hidden_layer_sizes=(50,), max_iter=1000)"
      ]
     },
     "execution_count": 25,
     "metadata": {},
     "output_type": "execute_result"
    }
   ],
   "source": [
    "cv.best_estimator_"
   ]
  },
  {
   "cell_type": "code",
   "execution_count": 26,
   "id": "8a9ac1ad",
   "metadata": {},
   "outputs": [
    {
     "data": {
      "text/plain": [
       "['MLP_Model.pkl']"
      ]
     },
     "execution_count": 26,
     "metadata": {},
     "output_type": "execute_result"
    }
   ],
   "source": [
    "joblib.dump(cv.best_estimator_,'MLP_Model.pkl')"
   ]
  },
  {
   "cell_type": "code",
   "execution_count": null,
   "id": "5dc1e43b",
   "metadata": {},
   "outputs": [],
   "source": []
  }
 ],
 "metadata": {
  "kernelspec": {
   "display_name": "Python 3",
   "language": "python",
   "name": "python3"
  },
  "language_info": {
   "codemirror_mode": {
    "name": "ipython",
    "version": 3
   },
   "file_extension": ".py",
   "mimetype": "text/x-python",
   "name": "python",
   "nbconvert_exporter": "python",
   "pygments_lexer": "ipython3",
   "version": "3.8.8"
  }
 },
 "nbformat": 4,
 "nbformat_minor": 5
}
