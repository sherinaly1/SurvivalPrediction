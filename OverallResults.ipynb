{
 "cells": [
  {
   "cell_type": "code",
   "execution_count": 31,
   "id": "bc4aa92a",
   "metadata": {},
   "outputs": [],
   "source": [
    "import joblib\n",
    "import pandas as pd\n",
    "from sklearn.metrics import accuracy_score, precision_score, recall_score, f1_score\n",
    "from time import time\n",
    "\n",
    "val_features = pd.read_csv('val_features.csv')\n",
    "val_labels = pd.read_csv('val_labels.csv')\n",
    "\n",
    "ts_features = pd.read_csv('test_features.csv')\n",
    "ts_labels = pd.read_csv('test_labels.csv')"
   ]
  },
  {
   "cell_type": "code",
   "execution_count": 32,
   "id": "8f865685",
   "metadata": {},
   "outputs": [],
   "source": [
    "model={}\n",
    "for m in ['LR','SVM','GB','RF','MLP']:\n",
    "    model[m] = joblib.load('{}_model.pkl'.format(m))"
   ]
  },
  {
   "cell_type": "code",
   "execution_count": 33,
   "id": "2936c98e",
   "metadata": {},
   "outputs": [
    {
     "data": {
      "text/plain": [
       "{'LR': LogisticRegression(C=1, max_iter=10000),\n",
       " 'SVM': SVC(C=0.1, gamma=0.1, kernel='linear'),\n",
       " 'GB': GradientBoostingClassifier(learning_rate=0.01, n_estimators=500),\n",
       " 'RF': RandomForestClassifier(max_depth=4, n_estimators=25),\n",
       " 'MLP': MLPClassifier(activation='tanh', hidden_layer_sizes=(50,), max_iter=1000)}"
      ]
     },
     "execution_count": 33,
     "metadata": {},
     "output_type": "execute_result"
    }
   ],
   "source": [
    "model"
   ]
  },
  {
   "cell_type": "markdown",
   "id": "2f599a50",
   "metadata": {},
   "source": [
    "# Evaluation\n",
    "Accuracy=(#actual survivals)/(total No of people)\n",
    "\n",
    "precision = (#predicted as survived that actually survived)/(# total predicted as survived) ==> when the model predicted that someone survived, how often they actually survived\n",
    "\n",
    "Recal = (# predicted as survived that are truely survived)/(# total actually survived) ==> how precisely the model can predict survival for the people who actually survived"
   ]
  },
  {
   "cell_type": "code",
   "execution_count": 42,
   "id": "f987e50e",
   "metadata": {},
   "outputs": [],
   "source": [
    "def evaluate_model(name, model,features,labels):\n",
    "    start = time()\n",
    "    pred = model.predict(features)\n",
    "    end = time()\n",
    "    acc = round(accuracy_score(labels,pred),3)\n",
    "    prec = round(precision_score(labels,pred),3)\n",
    "    rec = round(recall_score(labels,pred),3)\n",
    "    f1 = round(f1_score(labels,pred),3)\n",
    "    print('{} Accuracy: {} / Precision: {} / Recall: {} / F1_score: {}/ Latency: {}ms'.format(name,\n",
    "                                                                                              acc,prec,\n",
    "                                                                                              rec,\n",
    "                                                                                              f1,\n",
    "                                                                                              round((end-start)*1000),1))\n",
    "    \n",
    "    \n",
    "    "
   ]
  },
  {
   "cell_type": "code",
   "execution_count": 43,
   "id": "1a22631b",
   "metadata": {},
   "outputs": [
    {
     "name": "stdout",
     "output_type": "stream",
     "text": [
      "LR Accuracy: 0.775 / Precision: 0.712 / Recall: 0.646 / F1_score: 0.677/ Latency: 0ms\n",
      "SVM Accuracy: 0.747 / Precision: 0.672 / Recall: 0.6 / F1_score: 0.634/ Latency: 16ms\n",
      "GB Accuracy: 0.815 / Precision: 0.808 / Recall: 0.646 / F1_score: 0.718/ Latency: 0ms\n",
      "RF Accuracy: 0.809 / Precision: 0.83 / Recall: 0.6 / F1_score: 0.696/ Latency: 20ms\n",
      "MLP Accuracy: 0.781 / Precision: 0.724 / Recall: 0.646 / F1_score: 0.683/ Latency: 2ms\n"
     ]
    }
   ],
   "source": [
    "for name,mdl in model.items():\n",
    "    evaluate_model(name, mdl,val_features,val_labels)"
   ]
  },
  {
   "cell_type": "code",
   "execution_count": 44,
   "id": "bf5c70a6",
   "metadata": {},
   "outputs": [
    {
     "name": "stdout",
     "output_type": "stream",
     "text": [
      "LR Accuracy: 0.827 / Precision: 0.846 / Recall: 0.724 / F1_score: 0.78/ Latency: 2ms\n",
      "SVM Accuracy: 0.799 / Precision: 0.794 / Recall: 0.711 / F1_score: 0.75/ Latency: 4ms\n",
      "GB Accuracy: 0.816 / Precision: 0.852 / Recall: 0.684 / F1_score: 0.759/ Latency: 4ms\n",
      "RF Accuracy: 0.799 / Precision: 0.845 / Recall: 0.645 / F1_score: 0.731/ Latency: 5ms\n",
      "MLP Accuracy: 0.821 / Precision: 0.844 / Recall: 0.711 / F1_score: 0.771/ Latency: 2ms\n"
     ]
    }
   ],
   "source": [
    "for name,mdl in model.items():\n",
    "    evaluate_model(name, mdl,ts_features,ts_labels)"
   ]
  },
  {
   "cell_type": "code",
   "execution_count": 45,
   "id": "f0c49ba8",
   "metadata": {},
   "outputs": [
    {
     "name": "stdout",
     "output_type": "stream",
     "text": [
      "Gradient Boosting Accuracy: 0.816 / Precision: 0.852 / Recall: 0.684 / F1_score: 0.759/ Latency: 5ms\n"
     ]
    }
   ],
   "source": [
    "evaluate_model('Gradient Boosting', models['GB'], ts_features, ts_labels)"
   ]
  },
  {
   "cell_type": "code",
   "execution_count": null,
   "id": "33a77e66",
   "metadata": {},
   "outputs": [],
   "source": []
  },
  {
   "cell_type": "code",
   "execution_count": null,
   "id": "3aedc7d0",
   "metadata": {},
   "outputs": [],
   "source": []
  }
 ],
 "metadata": {
  "kernelspec": {
   "display_name": "Python 3",
   "language": "python",
   "name": "python3"
  },
  "language_info": {
   "codemirror_mode": {
    "name": "ipython",
    "version": 3
   },
   "file_extension": ".py",
   "mimetype": "text/x-python",
   "name": "python",
   "nbconvert_exporter": "python",
   "pygments_lexer": "ipython3",
   "version": "3.8.8"
  }
 },
 "nbformat": 4,
 "nbformat_minor": 5
}
