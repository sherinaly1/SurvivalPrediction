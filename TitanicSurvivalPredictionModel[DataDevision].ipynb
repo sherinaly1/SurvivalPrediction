{
 "cells": [
  {
   "cell_type": "markdown",
   "id": "885e328a",
   "metadata": {},
   "source": [
    "# Predict the chance of survivial for Titanic passenger giving his info\n",
    "# Part 2: Data division "
   ]
  },
  {
   "cell_type": "code",
   "execution_count": 3,
   "id": "862504cd",
   "metadata": {},
   "outputs": [],
   "source": [
    "import pandas as pd\n",
    "import sklearn.model_selection import train_test_split\n",
    "\n",
    "titanic = pd.read_csv('../../../titanic_cleaned.csv')"
   ]
  },
  {
   "cell_type": "code",
   "execution_count": 4,
   "id": "6c1fc726",
   "metadata": {},
   "outputs": [
    {
     "data": {
      "text/plain": [
       "Index(['Survived', 'Pclass', 'Sex', 'Age', 'Fare', 'Family_cnt', 'Cabin_ind'], dtype='object')"
      ]
     },
     "execution_count": 4,
     "metadata": {},
     "output_type": "execute_result"
    }
   ],
   "source": [
    "titanic.columns"
   ]
  },
  {
   "cell_type": "code",
   "execution_count": 6,
   "id": "88b8b909",
   "metadata": {},
   "outputs": [
    {
     "ename": "TypeError",
     "evalue": "train_test_split() got an unexpected keyword argument 'randome_state'",
     "output_type": "error",
     "traceback": [
      "\u001b[1;31m---------------------------------------------------------------------------\u001b[0m",
      "\u001b[1;31mTypeError\u001b[0m                                 Traceback (most recent call last)",
      "\u001b[1;32m<ipython-input-6-2b8cc4d9c6c2>\u001b[0m in \u001b[0;36m<module>\u001b[1;34m\u001b[0m\n\u001b[1;32m----> 1\u001b[1;33m \u001b[0mX_train\u001b[0m\u001b[1;33m,\u001b[0m \u001b[0mX_test\u001b[0m\u001b[1;33m,\u001b[0m \u001b[0my_train\u001b[0m\u001b[1;33m,\u001b[0m \u001b[0my_test\u001b[0m \u001b[1;33m=\u001b[0m \u001b[0mtrain_test_split\u001b[0m\u001b[1;33m(\u001b[0m\u001b[0mfeatures\u001b[0m\u001b[1;33m,\u001b[0m\u001b[0mlabels\u001b[0m\u001b[1;33m,\u001b[0m\u001b[0mtest_size\u001b[0m\u001b[1;33m=\u001b[0m\u001b[1;36m0.4\u001b[0m\u001b[1;33m,\u001b[0m\u001b[0mrandome_state\u001b[0m\u001b[1;33m=\u001b[0m\u001b[1;36m42\u001b[0m\u001b[1;33m)\u001b[0m\u001b[1;33m\u001b[0m\u001b[1;33m\u001b[0m\u001b[0m\n\u001b[0m",
      "\u001b[1;31mTypeError\u001b[0m: train_test_split() got an unexpected keyword argument 'randome_state'"
     ]
    }
   ],
   "source": []
  },
  {
   "cell_type": "code",
   "execution_count": 7,
   "id": "180833e0",
   "metadata": {},
   "outputs": [],
   "source": [
    "features = titanic.drop(['Survived'],axis=1)\n",
    "labels=titanic['Survived']"
   ]
  },
  {
   "cell_type": "code",
   "execution_count": 9,
   "id": "1be3edd9",
   "metadata": {},
   "outputs": [],
   "source": [
    "X_train, X_test, y_train, y_test = train_test_split(features,labels,test_size=0.4,random_state=42)\n",
    "X_val, X_test, y_val, y_test = train_test_split(X_test,y_test,test_size=0.5,random_state=42)"
   ]
  },
  {
   "cell_type": "code",
   "execution_count": 13,
   "id": "1b1c0fb9",
   "metadata": {},
   "outputs": [
    {
     "name": "stdout",
     "output_type": "stream",
     "text": [
      "0.6\n",
      "0.2\n",
      "0.2\n"
     ]
    }
   ],
   "source": [
    "for dataset in [y_train,y_val,y_test]:\n",
    "    print(round(len(dataset)/len(labels),2))"
   ]
  },
  {
   "cell_type": "code",
   "execution_count": 14,
   "id": "5b076919",
   "metadata": {},
   "outputs": [],
   "source": [
    "X_train.to_csv('../../../train_features.csv',index=False)\n",
    "X_val.to_csv('../../../val_features.csv',index=False)\n",
    "X_test.to_csv('../../../test_features.csv',index=False)\n",
    "\n",
    "y_train.to_csv('../../../train_labels.csv',index=False)\n",
    "y_val.to_csv('../../../val_labels.csv',index=False)\n",
    "y_test.to_csv('../../../test_labels.csv',index=False)"
   ]
  },
  {
   "cell_type": "code",
   "execution_count": null,
   "id": "3c3635f8",
   "metadata": {},
   "outputs": [],
   "source": []
  }
 ],
 "metadata": {
  "kernelspec": {
   "display_name": "Python 3",
   "language": "python",
   "name": "python3"
  },
  "language_info": {
   "codemirror_mode": {
    "name": "ipython",
    "version": 3
   },
   "file_extension": ".py",
   "mimetype": "text/x-python",
   "name": "python",
   "nbconvert_exporter": "python",
   "pygments_lexer": "ipython3",
   "version": "3.8.8"
  }
 },
 "nbformat": 4,
 "nbformat_minor": 5
}
