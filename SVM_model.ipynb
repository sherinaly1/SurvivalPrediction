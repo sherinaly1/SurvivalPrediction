{
 "cells": [
  {
   "cell_type": "markdown",
   "id": "caffc7bf",
   "metadata": {},
   "source": [
    "# SVM Model"
   ]
  },
  {
   "cell_type": "code",
   "execution_count": 3,
   "id": "612b5950",
   "metadata": {},
   "outputs": [],
   "source": [
    "import pandas as pd\n",
    "import joblib\n",
    "from sklearn.model_selection import GridSearchCV\n",
    "from sklearn.svm import SVC\n",
    "import warnings\n",
    "warnings.filterwarnings('ignore', category=FutureWarning)\n",
    "warnings.filterwarnings('ignore', category=DeprecationWarning)\n",
    "\n",
    "\n",
    "tr_features = pd.read_csv('train_features.csv')\n",
    "tr_labels = pd.read_csv('train_labels.csv')"
   ]
  },
  {
   "cell_type": "code",
   "execution_count": 14,
   "id": "bc709eb0",
   "metadata": {},
   "outputs": [
    {
     "data": {
      "text/plain": [
       "<bound method BaseEstimator.get_params of SVC()>"
      ]
     },
     "execution_count": 14,
     "metadata": {},
     "output_type": "execute_result"
    }
   ],
   "source": [
    "svc.get_params"
   ]
  },
  {
   "cell_type": "code",
   "execution_count": 5,
   "id": "acf79c70",
   "metadata": {},
   "outputs": [],
   "source": [
    "def print_results(results):\n",
    "    print('BEST PARAMS: {}\\n'.format(results.best_params_))\n",
    "\n",
    "    means = results.cv_results_['mean_test_score']\n",
    "    stds = results.cv_results_['std_test_score']\n",
    "    for mean, std, params in zip(means, stds, results.cv_results_['params']):\n",
    "        print('{} (+/-{}) for {}'.format(round(mean, 3), round(std , 3), params))"
   ]
  },
  {
   "cell_type": "code",
   "execution_count": 16,
   "id": "181e568a",
   "metadata": {},
   "outputs": [
    {
     "name": "stdout",
     "output_type": "stream",
     "text": [
      "BEST PARAMS: {'C': 0.1, 'gamma': 0.1, 'kernel': 'linear'}\n",
      "\n",
      "0.796 (+/-0.058) for {'C': 0.1, 'gamma': 0.1, 'kernel': 'linear'}\n",
      "0.624 (+/-0.004) for {'C': 0.1, 'gamma': 0.1, 'kernel': 'rbf'}\n",
      "0.796 (+/-0.058) for {'C': 0.1, 'gamma': 0.5, 'kernel': 'linear'}\n",
      "0.624 (+/-0.004) for {'C': 0.1, 'gamma': 0.5, 'kernel': 'rbf'}\n",
      "0.796 (+/-0.058) for {'C': 0.1, 'gamma': 0.9, 'kernel': 'linear'}\n",
      "0.624 (+/-0.004) for {'C': 0.1, 'gamma': 0.9, 'kernel': 'rbf'}\n",
      "0.796 (+/-0.058) for {'C': 0.1, 'gamma': 1, 'kernel': 'linear'}\n",
      "0.624 (+/-0.004) for {'C': 0.1, 'gamma': 1, 'kernel': 'rbf'}\n",
      "0.796 (+/-0.058) for {'C': 0.1, 'gamma': 2, 'kernel': 'linear'}\n",
      "0.624 (+/-0.004) for {'C': 0.1, 'gamma': 2, 'kernel': 'rbf'}\n",
      "0.796 (+/-0.058) for {'C': 1, 'gamma': 0.1, 'kernel': 'linear'}\n",
      "0.657 (+/-0.025) for {'C': 1, 'gamma': 0.1, 'kernel': 'rbf'}\n",
      "0.796 (+/-0.058) for {'C': 1, 'gamma': 0.5, 'kernel': 'linear'}\n",
      "0.657 (+/-0.036) for {'C': 1, 'gamma': 0.5, 'kernel': 'rbf'}\n",
      "0.796 (+/-0.058) for {'C': 1, 'gamma': 0.9, 'kernel': 'linear'}\n",
      "0.672 (+/-0.027) for {'C': 1, 'gamma': 0.9, 'kernel': 'rbf'}\n",
      "0.796 (+/-0.058) for {'C': 1, 'gamma': 1, 'kernel': 'linear'}\n",
      "0.665 (+/-0.022) for {'C': 1, 'gamma': 1, 'kernel': 'rbf'}\n",
      "0.796 (+/-0.058) for {'C': 1, 'gamma': 2, 'kernel': 'linear'}\n",
      "0.659 (+/-0.024) for {'C': 1, 'gamma': 2, 'kernel': 'rbf'}\n",
      "0.796 (+/-0.058) for {'C': 10, 'gamma': 0.1, 'kernel': 'linear'}\n",
      "0.706 (+/-0.041) for {'C': 10, 'gamma': 0.1, 'kernel': 'rbf'}\n",
      "0.796 (+/-0.058) for {'C': 10, 'gamma': 0.5, 'kernel': 'linear'}\n",
      "0.672 (+/-0.039) for {'C': 10, 'gamma': 0.5, 'kernel': 'rbf'}\n",
      "0.796 (+/-0.058) for {'C': 10, 'gamma': 0.9, 'kernel': 'linear'}\n",
      "0.68 (+/-0.027) for {'C': 10, 'gamma': 0.9, 'kernel': 'rbf'}\n",
      "0.796 (+/-0.058) for {'C': 10, 'gamma': 1, 'kernel': 'linear'}\n",
      "0.682 (+/-0.025) for {'C': 10, 'gamma': 1, 'kernel': 'rbf'}\n",
      "0.796 (+/-0.058) for {'C': 10, 'gamma': 2, 'kernel': 'linear'}\n",
      "0.663 (+/-0.023) for {'C': 10, 'gamma': 2, 'kernel': 'rbf'}\n"
     ]
    }
   ],
   "source": [
    "svc=SVC()\n",
    "parameters = {\n",
    "    'kernel': ['linear', 'rbf'],\n",
    "    'C': [0.1, 1, 10],\n",
    "    'gamma':[0.1, 0.5, 0.9, 1, 2]\n",
    "    \n",
    "}\n",
    "\n",
    "cv = GridSearchCV(svc, parameters, cv=5)\n",
    "cv.fit(tr_features, tr_labels.values.ravel())\n",
    "\n",
    "print_results(cv)\n"
   ]
  },
  {
   "cell_type": "code",
   "execution_count": 8,
   "id": "06eec613",
   "metadata": {},
   "outputs": [
    {
     "data": {
      "text/plain": [
       "SVC(C=0.1, kernel='linear')"
      ]
     },
     "execution_count": 8,
     "metadata": {},
     "output_type": "execute_result"
    }
   ],
   "source": [
    "cv.best_estimator_"
   ]
  },
  {
   "cell_type": "code",
   "execution_count": null,
   "id": "1b3714a8",
   "metadata": {},
   "outputs": [],
   "source": []
  },
  {
   "cell_type": "code",
   "execution_count": 17,
   "id": "04da3d22",
   "metadata": {},
   "outputs": [
    {
     "data": {
      "text/plain": [
       "['SVM_model.pkl']"
      ]
     },
     "execution_count": 17,
     "metadata": {},
     "output_type": "execute_result"
    }
   ],
   "source": [
    "joblib.dump(cv.best_estimator_, 'SVM_model.pkl')"
   ]
  },
  {
   "cell_type": "code",
   "execution_count": null,
   "id": "33add175",
   "metadata": {},
   "outputs": [],
   "source": []
  },
  {
   "cell_type": "code",
   "execution_count": null,
   "id": "594a1eac",
   "metadata": {},
   "outputs": [],
   "source": []
  }
 ],
 "metadata": {
  "kernelspec": {
   "display_name": "Python 3",
   "language": "python",
   "name": "python3"
  },
  "language_info": {
   "codemirror_mode": {
    "name": "ipython",
    "version": 3
   },
   "file_extension": ".py",
   "mimetype": "text/x-python",
   "name": "python",
   "nbconvert_exporter": "python",
   "pygments_lexer": "ipython3",
   "version": "3.8.8"
  }
 },
 "nbformat": 4,
 "nbformat_minor": 5
}
